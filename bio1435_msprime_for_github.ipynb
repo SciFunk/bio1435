{
 "cells": [
  {
   "cell_type": "raw",
   "metadata": {},
   "source": [
    "length: number of base pairs to simulate, have to simulate enough sites that mutation rate matters\n",
    "n = sample size (different from N, population size)\n",
    "S = number of segregating sites"
   ]
  },
  {
   "cell_type": "code",
   "execution_count": 198,
   "metadata": {},
   "outputs": [
    {
     "name": "stdout",
     "output_type": "stream",
     "text": [
      "5.0\n"
     ]
    }
   ],
   "source": [
    "### example of how to use a definition, simulating rolling a 12-sided die\n",
    "### this is the code for the example we did in class\n",
    "\n",
    "import numpy as np\n",
    "\n",
    "def average_die_roll(number_of_sides, number_of_rolls):\n",
    "    values_for_each_roll = np.zeros(number_of_rolls)\n",
    "    for roll_number in range(number_of_rolls):\n",
    "        values_for_each_roll[roll_number] = np.random.randint(1, (number_of_sides + 1))\n",
    "    print(np.mean(values_for_each_roll))\n",
    "    \n",
    "average_die_roll(12, 6)  "
   ]
  },
  {
   "cell_type": "code",
   "execution_count": 120,
   "metadata": {},
   "outputs": [
    {
     "name": "stdout",
     "output_type": "stream",
     "text": [
      "0\t465.59398295357823\t[0 0 1 0 0 1 0 1 0 1 1 1 1 1 1 0 0 1 1 0]\n",
      "1\t839.6840747445822\t[0 1 0 0 0 0 0 0 0 0 0 0 0 0 0 0 0 0 0 0]\n",
      "2\t1157.056379597634\t[0 1 0 0 0 0 0 0 0 0 0 0 0 0 0 0 0 0 0 0]\n",
      "3\t1781.9945677183568\t[0 0 0 0 0 0 0 0 0 0 0 0 0 1 0 0 0 0 0 0]\n",
      "4\t2331.946901977062\t[0 0 0 0 0 0 0 0 0 0 0 0 0 0 0 0 0 0 1 0]\n",
      "5\t2356.2782374210656\t[0 0 1 0 0 1 0 1 0 1 1 1 1 1 1 0 0 1 1 0]\n",
      "6\t2876.2098657898605\t[0 0 0 0 0 0 0 0 0 0 0 0 0 0 1 0 0 0 0 0]\n",
      "7\t3109.1747293248773\t[1 0 1 1 1 1 1 1 1 1 1 1 1 1 1 1 1 1 1 1]\n",
      "8\t3196.4857457205653\t[0 0 0 0 0 0 0 0 0 0 0 0 1 0 1 0 0 0 0 0]\n",
      "9\t3578.405440784991\t[1 0 1 1 1 1 1 1 1 1 1 1 1 1 1 1 1 1 1 1]\n",
      "10\t4094.0289152786136\t[0 1 0 0 0 0 0 0 0 0 0 0 0 0 0 0 0 0 0 0]\n",
      "11\t4137.386081274599\t[1 0 0 1 1 0 1 0 1 0 0 0 0 0 0 1 1 0 0 1]\n",
      "12\t4153.636419214308\t[0 1 0 0 0 0 0 0 0 0 0 0 0 0 0 0 0 0 0 0]\n",
      "13\t5630.297705065459\t[0 1 0 0 0 0 0 0 0 0 0 0 0 0 0 0 0 0 0 0]\n",
      "14\t7087.0040892623365\t[0 1 0 0 0 0 0 0 0 0 0 0 0 0 0 0 0 0 0 0]\n",
      "15\t7332.848322112113\t[0 0 0 0 0 0 0 0 0 0 0 0 0 0 0 0 0 0 0 1]\n",
      "16\t7714.515181723982\t[0 0 0 1 0 0 0 0 0 0 0 0 0 0 0 0 0 0 0 0]\n",
      "17\t7896.86169475317\t[0 1 0 0 0 0 0 0 0 0 0 0 0 0 0 0 0 0 0 0]\n",
      "18\t8281.266081612557\t[0 0 0 0 0 0 0 1 0 0 1 1 1 1 1 0 0 1 1 0]\n",
      "19\t9270.115622784942\t[0 0 0 0 0 0 0 0 0 0 1 0 0 0 0 0 0 0 0 0]\n",
      "20\t9459.35619994998\t[0 0 1 0 0 1 0 1 0 1 1 1 1 1 1 0 0 1 1 0]\n"
     ]
    }
   ],
   "source": [
    "### msprime1.py\n",
    "### output is all variant sites in a single simulation\n",
    "\n",
    "import msprime\n",
    "\n",
    "def one_simulation(sample_size):\n",
    "    constant_pop_size = msprime.simulate(sample_size = sample_size,\n",
    "                           Ne = 10000,\n",
    "                           length = 10000, \n",
    "                           mutation_rate = 2.4e-8)\n",
    "    for variant in constant_pop_size.variants():\n",
    "        print(variant.site.id, variant.site.position, variant.genotypes, sep=\"\\t\")\n",
    "        \n",
    "one_simulation(20)"
   ]
  },
  {
   "cell_type": "code",
   "execution_count": 115,
   "metadata": {},
   "outputs": [
    {
     "name": "stdout",
     "output_type": "stream",
     "text": [
      "32.5\n"
     ]
    }
   ],
   "source": [
    "### msprime2.py\n",
    "### input sample_size, number_of_replicates\n",
    "### output is mean of segregating sites for many simulations\n",
    "\n",
    "import msprime\n",
    "import numpy as np\n",
    "\n",
    "def many_simulations(sample_size, number_of_replicates):\n",
    "    S = np.zeros(number_of_replicates)\n",
    "    replicates = msprime.simulate(sample_size = sample_size,\n",
    "                           Ne = 10000,\n",
    "                           length = 10000, \n",
    "                           mutation_rate = 2.4e-8,\n",
    "                           num_replicates = number_of_replicates)\n",
    "    for replicate_number, tree_sequence in enumerate(replicates):\n",
    "        S[replicate_number] = tree_sequence.num_sites\n",
    "#     for variant in treeseq.variants():\n",
    "#         print(variant.site.id, variant.site.position, variant.genotypes, sep=\"\\t\")\n",
    "    print(np.mean(S))\n",
    "    \n",
    "many_simulations(20, 100)"
   ]
  },
  {
   "cell_type": "code",
   "execution_count": 205,
   "metadata": {},
   "outputs": [
    {
     "name": "stdout",
     "output_type": "stream",
     "text": [
      "17.59\n"
     ]
    }
   ],
   "source": [
    "### msprime3.py\n",
    "### input sample_size, number_of_replicates\n",
    "### output is mean of segregating sites for many simulations, with a gradual increase in population size\n",
    "#         |  |\n",
    "#         |  |\n",
    "#         |  |\n",
    "#         |  |      N = 5000\n",
    "#        /    \\\n",
    "#       /      \\\n",
    "#      /        \\    N = 10000\n",
    "    \n",
    "    \n",
    "import msprime\n",
    "import numpy as np\n",
    "\n",
    "def many_simulations_popsize_increase(sample_size, number_of_replicates):\n",
    "    S = np.zeros(number_of_replicates)\n",
    "    replicates = msprime.simulate(length = 10000, \n",
    "                           mutation_rate = 2.4e-8,\n",
    "                           num_replicates = number_of_replicates,\n",
    "                           population_configurations = [msprime.PopulationConfiguration(initial_size=10000, \n",
    "                                                     sample_size = sample_size, growth_rate=0.00867)],\n",
    "                           demographic_events = [msprime.PopulationParametersChange(time=(2000/25), initial_size=5000, growth_rate=0)])\n",
    "    for replicate_number, tree_sequence in enumerate(replicates):\n",
    "        S[replicate_number] = tree_sequence.num_sites\n",
    "    print(np.mean(S))\n",
    "    \n",
    "many_simulations_popsize_increase(20, 100)"
   ]
  },
  {
   "cell_type": "code",
   "execution_count": 208,
   "metadata": {},
   "outputs": [
    {
     "name": "stdout",
     "output_type": "stream",
     "text": [
      "65.54\n"
     ]
    }
   ],
   "source": [
    "### msprime4.py\n",
    "### input sample_size, number_of_replicates\n",
    "### output is mean of segregating sites for many simulations, with a bottleneck\n",
    "\n",
    "import msprime\n",
    "\n",
    "import numpy as np\n",
    "\n",
    "def many_simulations_bottleneck(sample_size, number_of_replicates):\n",
    "    S = np.zeros(number_of_replicates)\n",
    "    replicates = msprime.simulate(length = 10000, \n",
    "                           mutation_rate = 2.4e-8,\n",
    "                           num_replicates = number_of_replicates,\n",
    "                           population_configurations = [msprime.PopulationConfiguration(initial_size=10000, sample_size = sample_size)],\n",
    "                           demographic_events = [msprime.PopulationParametersChange(time=(2000/25), initial_size=20000)])\n",
    "    for replicate_number, tree_sequence in enumerate(replicates):\n",
    "        S[replicate_number] = tree_sequence.num_sites\n",
    "    print(np.mean(S))\n",
    "    \n",
    "many_simulations_bottleneck(20, 100)"
   ]
  }
 ],
 "metadata": {
  "kernelspec": {
   "display_name": "Python 3",
   "language": "python",
   "name": "python3"
  },
  "language_info": {
   "codemirror_mode": {
    "name": "ipython",
    "version": 3
   },
   "file_extension": ".py",
   "mimetype": "text/x-python",
   "name": "python",
   "nbconvert_exporter": "python",
   "pygments_lexer": "ipython3",
   "version": "3.7.4"
  }
 },
 "nbformat": 4,
 "nbformat_minor": 4
}
